{
 "cells": [
  {
   "cell_type": "code",
   "execution_count": 3,
   "id": "9b8f32c9-9b86-423e-9512-fa88e0aebfd6",
   "metadata": {},
   "outputs": [
    {
     "name": "stdout",
     "output_type": "stream",
     "text": [
      "[INFO] Press SPACE to save an image when corners look stable; Q to quit.\n"
     ]
    }
   ],
   "source": [
    "import cv2, os, time\n",
    "\n",
    "# Inner corners (not squares): 9x6 means the printed board has 10x7 squares.\n",
    "PATTERN_SIZE = (9, 6)\n",
    "OUT_DIR = \"calib_images\"\n",
    "os.makedirs(OUT_DIR, exist_ok=True)\n",
    "\n",
    "def main(cam_index=0):\n",
    "    cap = cv2.VideoCapture(cam_index)\n",
    "    if not cap.isOpened():\n",
    "        raise SystemExit(\"Cannot open camera.\")\n",
    "    i = 0\n",
    "    print(\"[INFO] Press SPACE to save an image when corners look stable; Q to quit.\")\n",
    "    while True:\n",
    "        ok, frame = cap.read()\n",
    "        if not ok: break\n",
    "        gray = cv2.cvtColor(frame, cv2.COLOR_BGR2GRAY)\n",
    "        found, corners = cv2.findChessboardCorners(gray, PATTERN_SIZE,\n",
    "                                                   flags=cv2.CALIB_CB_ADAPTIVE_THRESH + cv2.CALIB_CB_NORMALIZE_IMAGE)\n",
    "        view = frame.copy()\n",
    "        if found:\n",
    "            cv2.drawChessboardCorners(view, PATTERN_SIZE, corners, found)\n",
    "            txt = \"Checkerboard FOUND - press SPACE to save\"\n",
    "            color = (0, 200, 0)\n",
    "        else:\n",
    "            txt = \"Show 9x6 inner-corner checkerboard\"\n",
    "            color = (0, 0, 255)\n",
    "        cv2.putText(view, txt, (12, 28), cv2.FONT_HERSHEY_SIMPLEX, 0.7, (0,0,0), 3, cv2.LINE_AA)\n",
    "        cv2.putText(view, txt, (12, 28), cv2.FONT_HERSHEY_SIMPLEX, 0.7, color, 1, cv2.LINE_AA)\n",
    "        cv2.imshow(\"Calib Capture\", view)\n",
    "        k = cv2.waitKey(1) & 0xFF\n",
    "        if k == ord('q'):\n",
    "            break\n",
    "        elif k == 32 and found:  # SPACE\n",
    "            fname = os.path.join(OUT_DIR, f\"calib_{int(time.time())}_{i:03d}.jpg\")\n",
    "            cv2.imwrite(fname, frame)\n",
    "            print(f\"[SAVED] {fname}\")\n",
    "            i += 1\n",
    "    cap.release()\n",
    "    cv2.destroyAllWindows()\n",
    "\n",
    "if __name__ == \"__main__\":\n",
    "    main()\n"
   ]
  },
  {
   "cell_type": "code",
   "execution_count": null,
   "id": "9a9401fc-c178-442a-8566-02e0952dd7cd",
   "metadata": {},
   "outputs": [],
   "source": []
  }
 ],
 "metadata": {
  "kernelspec": {
   "display_name": "Python 3.10 (handsize2)",
   "language": "python",
   "name": "handsize2"
  },
  "language_info": {
   "codemirror_mode": {
    "name": "ipython",
    "version": 3
   },
   "file_extension": ".py",
   "mimetype": "text/x-python",
   "name": "python",
   "nbconvert_exporter": "python",
   "pygments_lexer": "ipython3",
   "version": "3.11.13"
  }
 },
 "nbformat": 4,
 "nbformat_minor": 5
}
