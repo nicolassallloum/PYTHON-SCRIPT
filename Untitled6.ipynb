{
 "cells": [
  {
   "cell_type": "code",
   "execution_count": 21,
   "id": "612d21a7-0f8f-4f4a-980d-adda96c2f3e0",
   "metadata": {},
   "outputs": [
    {
     "data": {
      "text/plain": [
       "'//wsl.localhost/Ubuntu/home/nicolas/nifi-kafka-cassandra/data/input/big_data10M.csv'"
      ]
     },
     "execution_count": 21,
     "metadata": {},
     "output_type": "execute_result"
    }
   ],
   "source": [
    "import pandas as pd\n",
    "import numpy as np\n",
    "\n",
    "# Define number of rows for the big CSV\n",
    "n_rows = 10000000  # 1 million rows for a \"big\" CSV\n",
    "\n",
    "# Generate sample data\n",
    "data = {\n",
    "    \"id\": np.arange(1, n_rows + 1),\n",
    "    \"customer_id\": np.random.randint(1000, 99999999, size=n_rows),\n",
    "    \"amount\": np.round(np.random.uniform(1.0, 5000000.0, size=n_rows), 2),\n",
    "    \"ts\": pd.date_range(\"2025-01-01\", periods=n_rows, freq=\"s\")\n",
    "}\n",
    "\n",
    "# Create DataFrame\n",
    "df = pd.DataFrame(data)\n",
    "\n",
    "# Save CSV\n",
    "file_path = \"//wsl.localhost/Ubuntu/home/nicolas/nifi-kafka-cassandra/data/input/big_data10M.csv\"\n",
    "df.to_csv(file_path, index=False)\n",
    "\n",
    "file_path\n"
   ]
  },
  {
   "cell_type": "code",
   "execution_count": null,
   "id": "e79079b6-b08b-4888-b750-7b86a87eb5d1",
   "metadata": {},
   "outputs": [],
   "source": []
  }
 ],
 "metadata": {
  "kernelspec": {
   "display_name": "Python [conda env:base] *",
   "language": "python",
   "name": "conda-base-py"
  },
  "language_info": {
   "codemirror_mode": {
    "name": "ipython",
    "version": 3
   },
   "file_extension": ".py",
   "mimetype": "text/x-python",
   "name": "python",
   "nbconvert_exporter": "python",
   "pygments_lexer": "ipython3",
   "version": "3.12.7"
  }
 },
 "nbformat": 4,
 "nbformat_minor": 5
}
