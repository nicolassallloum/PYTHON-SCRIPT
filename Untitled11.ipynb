{
 "cells": [
  {
   "cell_type": "code",
   "execution_count": 1,
   "id": "9c7053ff-b84e-4b71-ba68-ef0935bcdd1d",
   "metadata": {},
   "outputs": [
    {
     "ename": "ModuleNotFoundError",
     "evalue": "No module named 'cv2'",
     "output_type": "error",
     "traceback": [
      "\u001b[31m---------------------------------------------------------------------------\u001b[39m",
      "\u001b[31mModuleNotFoundError\u001b[39m                       Traceback (most recent call last)",
      "\u001b[36mCell\u001b[39m\u001b[36m \u001b[39m\u001b[32mIn[1]\u001b[39m\u001b[32m, line 1\u001b[39m\n\u001b[32m----> \u001b[39m\u001b[32m1\u001b[39m \u001b[38;5;28;01mimport\u001b[39;00m\u001b[38;5;250m \u001b[39m\u001b[34;01mcv2\u001b[39;00m\n\u001b[32m      2\u001b[39m \u001b[38;5;28;01mimport\u001b[39;00m\u001b[38;5;250m \u001b[39m\u001b[34;01mmediapipe\u001b[39;00m\u001b[38;5;250m \u001b[39m\u001b[38;5;28;01mas\u001b[39;00m\u001b[38;5;250m \u001b[39m\u001b[34;01mmp\u001b[39;00m\n\u001b[32m      3\u001b[39m \u001b[38;5;28;01mimport\u001b[39;00m\u001b[38;5;250m \u001b[39m\u001b[34;01mmath\u001b[39;00m\n",
      "\u001b[31mModuleNotFoundError\u001b[39m: No module named 'cv2'"
     ]
    }
   ],
   "source": [
    "import cv2\n",
    "import mediapipe as mp\n",
    "import math\n",
    "import numpy as np\n",
    "\n",
    "# -----------------------------\n",
    "# MediaPipe Initialization\n",
    "# -----------------------------\n",
    "mp_hands = mp.solutions.hands\n",
    "mp_drawing = mp.solutions.drawing_utils\n",
    "\n",
    "finger_joints = {\n",
    "    \"thumb\": [1, 2, 3, 4],\n",
    "    \"index\": [5, 6, 7, 8],\n",
    "    \"middle\": [9, 10, 11, 12],\n",
    "    \"ring\": [13, 14, 15, 16],\n",
    "    \"pinky\": [17, 18, 19, 20]\n",
    "}\n",
    "\n",
    "# -----------------------------\n",
    "# Ring Size Table (US)\n",
    "# -----------------------------\n",
    "def diameter_to_us_ring_size(mm):\n",
    "    table = {\n",
    "        14.0: 3, 14.4: 3.5, 14.8: 4, 15.2: 4.5, 15.6: 5,\n",
    "        16.0: 5.5, 16.5: 6, 16.9: 6.5, 17.3: 7, 17.7: 7.5,\n",
    "        18.1: 8, 18.5: 8.5, 19.0: 9, 19.4: 9.5, 19.8: 10,\n",
    "        20.2: 10.5, 20.6: 11, 21.0: 11.5, 21.4: 12, 21.8: 12.5, 22.2: 13\n",
    "    }\n",
    "    closest = min(table.keys(), key=lambda x: abs(x - mm))\n",
    "    return table[closest]\n",
    "\n",
    "# -----------------------------\n",
    "# Distance Calculation\n",
    "# -----------------------------\n",
    "def euclidean_distance(p1, p2, w, h):\n",
    "    x1, y1 = int(p1.x * w), int(p1.y * h)\n",
    "    x2, y2 = int(p2.x * w), int(p2.y * h)\n",
    "    return math.sqrt((x2 - x1)**2 + (y2 - y1)**2), (x1, y1), (x2, y2)\n",
    "\n",
    "def measure_fingers(image, results, scale=1.0):\n",
    "    h, w, _ = image.shape\n",
    "    measurements = {}\n",
    "    for hand_landmarks in results.multi_hand_landmarks:\n",
    "        mp_drawing.draw_landmarks(image, hand_landmarks, mp_hands.HAND_CONNECTIONS)\n",
    "        for finger, ids in finger_joints.items():\n",
    "            left_point = hand_landmarks.landmark[ids[1]]\n",
    "            right_point = hand_landmarks.landmark[ids[2]]\n",
    "\n",
    "            dist_pixels, p1, p2 = euclidean_distance(left_point, right_point, w, h)\n",
    "            dist_mm = dist_pixels * scale  # Convert pixels to mm if scale provided\n",
    "            measurements[finger] = dist_mm\n",
    "\n",
    "            cv2.line(image, p1, p2, (0, 255, 0), 2)\n",
    "            cv2.putText(image, f\"{finger}: {dist_mm:.1f}mm\", (p1[0], p1[1]-10),\n",
    "                        cv2.FONT_HERSHEY_SIMPLEX, 0.5, (0,0,255), 2)\n",
    "            cv2.putText(image, f\"US Ring: {diameter_to_us_ring_size(dist_mm)}\", (p1[0], p1[1]-25),\n",
    "                        cv2.FONT_HERSHEY_SIMPLEX, 0.5, (255,0,0), 2)\n",
    "    return image, measurements\n",
    "\n",
    "# -----------------------------\n",
    "# Photo Mode\n",
    "# -----------------------------\n",
    "def photo_mode(image_path, reference_mm=None, reference_pixels=None):\n",
    "    image = cv2.imread(image_path)\n",
    "    scale = 1.0\n",
    "    if reference_mm and reference_pixels:\n",
    "        scale = reference_mm / reference_pixels  # mm per pixel\n",
    "\n",
    "    with mp_hands.Hands(static_image_mode=True, max_num_hands=1, min_detection_confidence=0.7) as hands:\n",
    "        rgb = cv2.cvtColor(image, cv2.COLOR_BGR2RGB)\n",
    "        results = hands.process(rgb)\n",
    "        if not results.multi_hand_landmarks:\n",
    "            print(\"No hand detected\")\n",
    "            return\n",
    "        image, meas = measure_fingers(image, results, scale)\n",
    "        print(\"Finger measurements (mm):\", meas)\n",
    "        cv2.imshow(\"Hand Measurement\", image)\n",
    "        cv2.waitKey(0)\n",
    "        cv2.destroyAllWindows()\n",
    "\n",
    "# -----------------------------\n",
    "# Video Mode\n",
    "# -----------------------------\n",
    "def video_mode(reference_mm=None, reference_pixels=None):\n",
    "    scale = 1.0\n",
    "    if reference_mm and reference_pixels:\n",
    "        scale = reference_mm / reference_pixels  # mm per pixel\n",
    "\n",
    "    cap = cv2.VideoCapture(0)\n",
    "    with mp_hands.Hands(max_num_hands=1, min_detection_confidence=0.7, min_tracking_confidence=0.7) as hands:\n",
    "        while True:\n",
    "            ret, frame = cap.read()\n",
    "            if not ret:\n",
    "                break\n",
    "            rgb = cv2.cvtColor(frame, cv2.COLOR_BGR2RGB)\n",
    "            results = hands.process(rgb)\n",
    "            if results.multi_hand_landmarks:\n",
    "                frame, meas = measure_fingers(frame, results, scale)\n",
    "            cv2.imshow(\"Finger Measurement (Press Q to quit)\", frame)\n",
    "            if cv2.waitKey(1) & 0xFF == ord('q'):\n",
    "                break\n",
    "    cap.release()\n",
    "    cv2.destroyAllWindows()\n",
    "\n",
    "# -----------------------------\n",
    "# Example Usage\n",
    "# -----------------------------\n",
    "# 1) Photo mode with optional reference object\n",
    "# photo_mode(\"hand.jpg\", reference_mm=24, reference_pixels=50)  # e.g., coin 24mm spans 50 pixels in image\n",
    "\n",
    "# 2) Webcam / Video mode\n",
    "video_mode(reference_mm=None, reference_pixels=None)  # Use None for pixel measurements only\n"
   ]
  },
  {
   "cell_type": "code",
   "execution_count": 2,
   "id": "bdd30b72-8e42-4af2-aa27-246bc4787ad3",
   "metadata": {},
   "outputs": [
    {
     "name": "stdout",
     "output_type": "stream",
     "text": [
      "Note: you may need to restart the kernel to use updated packages.\n"
     ]
    },
    {
     "name": "stderr",
     "output_type": "stream",
     "text": [
      "C:\\Users\\nicol\\AppData\\Local\\Programs\\Python\\Python313\\python.exe: No module named pip\n"
     ]
    }
   ],
   "source": [
    "pip install opencv-python mediapipe matplotlib\n"
   ]
  },
  {
   "cell_type": "code",
   "execution_count": 5,
   "id": "f071e979-a714-490a-bf6f-2f4b981bde21",
   "metadata": {},
   "outputs": [
    {
     "name": "stderr",
     "output_type": "stream",
     "text": [
      "C:\\ProgramData\\anaconda3\\envs\\handsize2\\python.exe: No module named ipykernel\n"
     ]
    }
   ],
   "source": [
    "!python -m ipykernel install --user --name=handsize --display-name \"Python 3.10 (handsize)\"\n"
   ]
  },
  {
   "cell_type": "code",
   "execution_count": null,
   "id": "36d2fdd9-c05f-42a5-8f03-62f075bea889",
   "metadata": {},
   "outputs": [],
   "source": []
  }
 ],
 "metadata": {
  "kernelspec": {
   "display_name": "Python 3.10 (handsize2)",
   "language": "python",
   "name": "handsize2"
  },
  "language_info": {
   "codemirror_mode": {
    "name": "ipython",
    "version": 3
   },
   "file_extension": ".py",
   "mimetype": "text/x-python",
   "name": "python",
   "nbconvert_exporter": "python",
   "pygments_lexer": "ipython3",
   "version": "3.11.13"
  }
 },
 "nbformat": 4,
 "nbformat_minor": 5
}
