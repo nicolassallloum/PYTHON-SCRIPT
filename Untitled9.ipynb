{
 "cells": [
  {
   "cell_type": "code",
   "execution_count": 1,
   "id": "14c1ac76-603a-45bd-8bca-8404fc0b683e",
   "metadata": {},
   "outputs": [
    {
     "name": "stdout",
     "output_type": "stream",
     "text": [
      "Defaulting to user installation because normal site-packages is not writeable\n",
      "Collecting SpeechRecognition\n",
      "  Downloading speechrecognition-3.14.3-py3-none-any.whl.metadata (30 kB)\n",
      "Collecting pydub\n",
      "  Downloading pydub-0.25.1-py2.py3-none-any.whl.metadata (1.4 kB)\n",
      "Requirement already satisfied: typing-extensions in c:\\programdata\\anaconda3\\lib\\site-packages (from SpeechRecognition) (4.11.0)\n",
      "Downloading speechrecognition-3.14.3-py3-none-any.whl (32.9 MB)\n",
      "   ---------------------------------------- 0.0/32.9 MB ? eta -:--:--\n",
      "   ---------------------------------------- 0.3/32.9 MB ? eta -:--:--\n",
      "   - -------------------------------------- 1.6/32.9 MB 5.6 MB/s eta 0:00:06\n",
      "   --- ------------------------------------ 3.1/32.9 MB 6.4 MB/s eta 0:00:05\n",
      "   ---- ----------------------------------- 3.7/32.9 MB 6.6 MB/s eta 0:00:05\n",
      "   ------- -------------------------------- 5.8/32.9 MB 6.4 MB/s eta 0:00:05\n",
      "   -------- ------------------------------- 7.1/32.9 MB 6.4 MB/s eta 0:00:05\n",
      "   ---------- ----------------------------- 8.4/32.9 MB 6.5 MB/s eta 0:00:04\n",
      "   ----------- ---------------------------- 9.7/32.9 MB 6.3 MB/s eta 0:00:04\n",
      "   ------------ --------------------------- 10.5/32.9 MB 6.2 MB/s eta 0:00:04\n",
      "   -------------- ------------------------- 11.8/32.9 MB 6.1 MB/s eta 0:00:04\n",
      "   --------------- ------------------------ 12.8/32.9 MB 6.0 MB/s eta 0:00:04\n",
      "   ---------------- ----------------------- 13.9/32.9 MB 5.9 MB/s eta 0:00:04\n",
      "   ------------------ --------------------- 14.9/32.9 MB 5.9 MB/s eta 0:00:04\n",
      "   ------------------- -------------------- 16.0/32.9 MB 5.8 MB/s eta 0:00:03\n",
      "   -------------------- ------------------- 17.0/32.9 MB 5.8 MB/s eta 0:00:03\n",
      "   ---------------------- ----------------- 18.4/32.9 MB 5.8 MB/s eta 0:00:03\n",
      "   ----------------------- ---------------- 19.4/32.9 MB 5.7 MB/s eta 0:00:03\n",
      "   ------------------------ --------------- 20.4/32.9 MB 5.7 MB/s eta 0:00:03\n",
      "   -------------------------- ------------- 21.8/32.9 MB 5.7 MB/s eta 0:00:02\n",
      "   --------------------------- ------------ 22.8/32.9 MB 5.7 MB/s eta 0:00:02\n",
      "   ----------------------------- ---------- 23.9/32.9 MB 5.7 MB/s eta 0:00:02\n",
      "   ------------------------------ --------- 25.2/32.9 MB 5.7 MB/s eta 0:00:02\n",
      "   -------------------------------- ------- 26.5/32.9 MB 5.7 MB/s eta 0:00:02\n",
      "   --------------------------------- ------ 27.5/32.9 MB 5.7 MB/s eta 0:00:01\n",
      "   ---------------------------------- ----- 28.6/32.9 MB 5.7 MB/s eta 0:00:01\n",
      "   ------------------------------------ --- 29.6/32.9 MB 5.7 MB/s eta 0:00:01\n",
      "   ------------------------------------- -- 30.7/32.9 MB 5.6 MB/s eta 0:00:01\n",
      "   -------------------------------------- - 31.7/32.9 MB 5.6 MB/s eta 0:00:01\n",
      "   ---------------------------------------  32.8/32.9 MB 5.6 MB/s eta 0:00:01\n",
      "   ---------------------------------------- 32.9/32.9 MB 5.5 MB/s eta 0:00:00\n",
      "Downloading pydub-0.25.1-py2.py3-none-any.whl (32 kB)\n",
      "Installing collected packages: pydub, SpeechRecognition\n",
      "Successfully installed SpeechRecognition-3.14.3 pydub-0.25.1\n",
      "Note: you may need to restart the kernel to use updated packages.\n"
     ]
    }
   ],
   "source": [
    "pip install SpeechRecognition pydub"
   ]
  },
  {
   "cell_type": "code",
   "execution_count": 15,
   "id": "8d46727d-b7e4-450e-b71f-e5f478a4ce19",
   "metadata": {},
   "outputs": [
    {
     "name": "stdout",
     "output_type": "stream",
     "text": [
      "Could not understand the audio.\n"
     ]
    }
   ],
   "source": [
    "import speech_recognition as sr\n",
    "\n",
    "recognizer = sr.Recognizer()\n",
    "Audio_file = \"test.wav\"\n",
    "\n",
    "from pydub import AudioSegment\n",
    "AudioSegment.from_mp3(Audio_file).export(Audio_file, format=\"wav\")\n",
    "\n",
    "with sr.AudioFile(Audio_file) as source:\n",
    "    audio_data = recognizer.record(source)\n",
    "\n",
    "try:\n",
    "    text = recognizer.recognize_google(audio_data)\n",
    "    print(\"Extracted Text:\" , Text)\n",
    "\n",
    "except sr.UnknownValueError:\n",
    "    print(\"Could not understand the audio.\")\n",
    "\n",
    "except sr.RequestError as e:\n",
    "    print(\"API Error:\", e)"
   ]
  },
  {
   "cell_type": "code",
   "execution_count": null,
   "id": "ee5561fa-f6d7-4e46-a513-df96eaa530f0",
   "metadata": {},
   "outputs": [],
   "source": []
  },
  {
   "cell_type": "code",
   "execution_count": null,
   "id": "e49eb851-6f29-4cad-8ca0-e30e9fc029b6",
   "metadata": {},
   "outputs": [],
   "source": []
  }
 ],
 "metadata": {
  "kernelspec": {
   "display_name": "Python [conda env:base] *",
   "language": "python",
   "name": "conda-base-py"
  },
  "language_info": {
   "codemirror_mode": {
    "name": "ipython",
    "version": 3
   },
   "file_extension": ".py",
   "mimetype": "text/x-python",
   "name": "python",
   "nbconvert_exporter": "python",
   "pygments_lexer": "ipython3",
   "version": "3.12.7"
  }
 },
 "nbformat": 4,
 "nbformat_minor": 5
}
