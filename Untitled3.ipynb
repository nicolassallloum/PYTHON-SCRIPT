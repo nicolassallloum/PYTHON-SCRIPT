{
 "cells": [
  {
   "cell_type": "code",
   "execution_count": 1,
   "id": "8bef5880-ae93-493f-8502-8433e5f909ff",
   "metadata": {},
   "outputs": [
    {
     "ename": "BadAddress",
     "evalue": "'your_wallet_address'",
     "output_type": "error",
     "traceback": [
      "\u001b[1;31m---------------------------------------------------------------------------\u001b[0m",
      "\u001b[1;31mBadAddress\u001b[0m                                Traceback (most recent call last)",
      "Cell \u001b[1;32mIn[1], line 5\u001b[0m\n\u001b[0;32m      1\u001b[0m \u001b[38;5;28;01mfrom\u001b[39;00m \u001b[38;5;21;01mtronpy\u001b[39;00m \u001b[38;5;28;01mimport\u001b[39;00m Tron\n\u001b[0;32m      3\u001b[0m client \u001b[38;5;241m=\u001b[39m Tron()\n\u001b[0;32m      4\u001b[0m txn \u001b[38;5;241m=\u001b[39m (\n\u001b[1;32m----> 5\u001b[0m     client\u001b[38;5;241m.\u001b[39mtrx\u001b[38;5;241m.\u001b[39mtransfer(\u001b[38;5;124m'\u001b[39m\u001b[38;5;124myour_wallet_address\u001b[39m\u001b[38;5;124m'\u001b[39m, \u001b[38;5;124m'\u001b[39m\u001b[38;5;124mrecipient_address\u001b[39m\u001b[38;5;124m'\u001b[39m, \u001b[38;5;241m1\u001b[39m)\n\u001b[0;32m      6\u001b[0m     \u001b[38;5;241m.\u001b[39mmemo(\u001b[38;5;124m\"\u001b[39m\u001b[38;5;124mSTAMP-\u001b[39m\u001b[38;5;124m\"\u001b[39m\u001b[38;5;241m+\u001b[39mstamp_code[:\u001b[38;5;241m10\u001b[39m])\n\u001b[0;32m      7\u001b[0m     \u001b[38;5;241m.\u001b[39mbuild()\n\u001b[0;32m      8\u001b[0m     \u001b[38;5;241m.\u001b[39msign(\u001b[38;5;124m'\u001b[39m\u001b[38;5;124myour_private_key\u001b[39m\u001b[38;5;124m'\u001b[39m)\n\u001b[0;32m      9\u001b[0m     \u001b[38;5;241m.\u001b[39mbroadcast()\n\u001b[0;32m     10\u001b[0m )\n",
      "File \u001b[1;32m~\\AppData\\Roaming\\Python\\Python312\\site-packages\\tronpy\\tron.py:306\u001b[0m, in \u001b[0;36mTrx.transfer\u001b[1;34m(self, from_, to, amount)\u001b[0m\n\u001b[0;32m    302\u001b[0m \u001b[38;5;28;01mdef\u001b[39;00m \u001b[38;5;21mtransfer\u001b[39m(\u001b[38;5;28mself\u001b[39m, from_: TAddress, to: TAddress, amount: \u001b[38;5;28mint\u001b[39m) \u001b[38;5;241m-\u001b[39m\u001b[38;5;241m>\u001b[39m TransactionBuilder:\n\u001b[0;32m    303\u001b[0m \u001b[38;5;250m    \u001b[39m\u001b[38;5;124;03m\"\"\"Transfer TRX. ``amount`` in `SUN`.\"\"\"\u001b[39;00m\n\u001b[0;32m    304\u001b[0m     \u001b[38;5;28;01mreturn\u001b[39;00m \u001b[38;5;28mself\u001b[39m\u001b[38;5;241m.\u001b[39m_build_transaction(\n\u001b[0;32m    305\u001b[0m         \u001b[38;5;124m\"\u001b[39m\u001b[38;5;124mTransferContract\u001b[39m\u001b[38;5;124m\"\u001b[39m,\n\u001b[1;32m--> 306\u001b[0m         {\u001b[38;5;124m\"\u001b[39m\u001b[38;5;124mowner_address\u001b[39m\u001b[38;5;124m\"\u001b[39m: keys\u001b[38;5;241m.\u001b[39mto_hex_address(from_), \u001b[38;5;124m\"\u001b[39m\u001b[38;5;124mto_address\u001b[39m\u001b[38;5;124m\"\u001b[39m: keys\u001b[38;5;241m.\u001b[39mto_hex_address(to), \u001b[38;5;124m\"\u001b[39m\u001b[38;5;124mamount\u001b[39m\u001b[38;5;124m\"\u001b[39m: amount},\n\u001b[0;32m    307\u001b[0m     )\n",
      "File \u001b[1;32m~\\AppData\\Roaming\\Python\\Python312\\site-packages\\tronpy\\keys\\__init__.py:105\u001b[0m, in \u001b[0;36mto_hex_address\u001b[1;34m(raw_addr)\u001b[0m\n\u001b[0;32m    104\u001b[0m \u001b[38;5;28;01mdef\u001b[39;00m \u001b[38;5;21mto_hex_address\u001b[39m(raw_addr: Union[\u001b[38;5;28mstr\u001b[39m, \u001b[38;5;28mbytes\u001b[39m]) \u001b[38;5;241m-\u001b[39m\u001b[38;5;241m>\u001b[39m \u001b[38;5;28mstr\u001b[39m:\n\u001b[1;32m--> 105\u001b[0m     addr \u001b[38;5;241m=\u001b[39m to_base58check_address(raw_addr)\n\u001b[0;32m    106\u001b[0m     \u001b[38;5;28;01mreturn\u001b[39;00m base58\u001b[38;5;241m.\u001b[39mb58decode_check(addr)\u001b[38;5;241m.\u001b[39mhex()\n",
      "File \u001b[1;32m~\\AppData\\Roaming\\Python\\Python312\\site-packages\\tronpy\\keys\\__init__.py:101\u001b[0m, in \u001b[0;36mto_base58check_address\u001b[1;34m(raw_addr)\u001b[0m\n\u001b[0;32m     99\u001b[0m         \u001b[38;5;28;01mreturn\u001b[39;00m base58\u001b[38;5;241m.\u001b[39mb58encode_check(\u001b[38;5;124mb\u001b[39m\u001b[38;5;124m\"\u001b[39m\u001b[38;5;130;01m\\x41\u001b[39;00m\u001b[38;5;124m\"\u001b[39m \u001b[38;5;241m+\u001b[39m raw_addr)\u001b[38;5;241m.\u001b[39mdecode()\n\u001b[0;32m    100\u001b[0m     \u001b[38;5;28;01mreturn\u001b[39;00m to_base58check_address(raw_addr\u001b[38;5;241m.\u001b[39mdecode())\n\u001b[1;32m--> 101\u001b[0m \u001b[38;5;28;01mraise\u001b[39;00m BadAddress(\u001b[38;5;28mrepr\u001b[39m(raw_addr))\n",
      "\u001b[1;31mBadAddress\u001b[0m: 'your_wallet_address'"
     ]
    }
   ],
   "source": [
    "from tronpy import Tron\n",
    "\n",
    "client = Tron()\n",
    "txn = (\n",
    "    client.trx.transfer('your_wallet_address', 'recipient_address', 1)\n",
    "    .memo(\"STAMP-\"+stamp_code[:10])\n",
    "    .build()\n",
    "    .sign('your_private_key')\n",
    "    .broadcast()\n",
    ")\n"
   ]
  },
  {
   "cell_type": "code",
   "execution_count": 3,
   "id": "0b00b291-1391-43bd-b148-8b270929528f",
   "metadata": {},
   "outputs": [
    {
     "name": "stdout",
     "output_type": "stream",
     "text": [
      "Defaulting to user installation because normal site-packages is not writeable\n",
      "Collecting tronpy\n",
      "  Downloading tronpy-0.5.0-py3-none-any.whl.metadata (4.0 kB)\n",
      "Collecting base58 (from tronpy)\n",
      "  Downloading base58-2.1.1-py3-none-any.whl.metadata (3.1 kB)\n",
      "Collecting coincurve (from tronpy)\n",
      "  Downloading coincurve-21.0.0-cp312-cp312-win_amd64.whl.metadata (4.0 kB)\n",
      "Collecting eth-abi<6.0.0,>=5.0.0 (from tronpy)\n",
      "  Downloading eth_abi-5.2.0-py3-none-any.whl.metadata (3.8 kB)\n",
      "Requirement already satisfied: httpx in c:\\programdata\\anaconda3\\lib\\site-packages (from tronpy) (0.27.0)\n",
      "Collecting pycryptodome<4 (from tronpy)\n",
      "  Downloading pycryptodome-3.22.0-cp37-abi3-win_amd64.whl.metadata (3.4 kB)\n",
      "Requirement already satisfied: requests in c:\\programdata\\anaconda3\\lib\\site-packages (from tronpy) (2.32.3)\n",
      "Collecting eth-utils>=2.0.0 (from eth-abi<6.0.0,>=5.0.0->tronpy)\n",
      "  Downloading eth_utils-5.3.0-py3-none-any.whl.metadata (5.7 kB)\n",
      "Collecting eth-typing>=3.0.0 (from eth-abi<6.0.0,>=5.0.0->tronpy)\n",
      "  Downloading eth_typing-5.2.1-py3-none-any.whl.metadata (3.2 kB)\n",
      "Collecting parsimonious<0.11.0,>=0.10.0 (from eth-abi<6.0.0,>=5.0.0->tronpy)\n",
      "  Downloading parsimonious-0.10.0-py3-none-any.whl.metadata (25 kB)\n",
      "Requirement already satisfied: anyio in c:\\programdata\\anaconda3\\lib\\site-packages (from httpx->tronpy) (4.2.0)\n",
      "Requirement already satisfied: certifi in c:\\programdata\\anaconda3\\lib\\site-packages (from httpx->tronpy) (2025.4.26)\n",
      "Requirement already satisfied: httpcore==1.* in c:\\programdata\\anaconda3\\lib\\site-packages (from httpx->tronpy) (1.0.2)\n",
      "Requirement already satisfied: idna in c:\\programdata\\anaconda3\\lib\\site-packages (from httpx->tronpy) (3.7)\n",
      "Requirement already satisfied: sniffio in c:\\programdata\\anaconda3\\lib\\site-packages (from httpx->tronpy) (1.3.0)\n",
      "Requirement already satisfied: h11<0.15,>=0.13 in c:\\programdata\\anaconda3\\lib\\site-packages (from httpcore==1.*->httpx->tronpy) (0.14.0)\n",
      "Requirement already satisfied: charset-normalizer<4,>=2 in c:\\programdata\\anaconda3\\lib\\site-packages (from requests->tronpy) (3.3.2)\n",
      "Requirement already satisfied: urllib3<3,>=1.21.1 in c:\\programdata\\anaconda3\\lib\\site-packages (from requests->tronpy) (2.2.3)\n",
      "Requirement already satisfied: typing_extensions>=4.5.0 in c:\\programdata\\anaconda3\\lib\\site-packages (from eth-typing>=3.0.0->eth-abi<6.0.0,>=5.0.0->tronpy) (4.11.0)\n",
      "Collecting eth-hash>=0.3.1 (from eth-utils>=2.0.0->eth-abi<6.0.0,>=5.0.0->tronpy)\n",
      "  Downloading eth_hash-0.7.1-py3-none-any.whl.metadata (4.2 kB)\n",
      "Requirement already satisfied: cytoolz>=0.10.1 in c:\\programdata\\anaconda3\\lib\\site-packages (from eth-utils>=2.0.0->eth-abi<6.0.0,>=5.0.0->tronpy) (0.12.2)\n",
      "Requirement already satisfied: pydantic<3,>=2.0.0 in c:\\programdata\\anaconda3\\lib\\site-packages (from eth-utils>=2.0.0->eth-abi<6.0.0,>=5.0.0->tronpy) (2.8.2)\n",
      "Requirement already satisfied: regex>=2022.3.15 in c:\\programdata\\anaconda3\\lib\\site-packages (from parsimonious<0.11.0,>=0.10.0->eth-abi<6.0.0,>=5.0.0->tronpy) (2024.9.11)\n",
      "Requirement already satisfied: toolz>=0.8.0 in c:\\programdata\\anaconda3\\lib\\site-packages (from cytoolz>=0.10.1->eth-utils>=2.0.0->eth-abi<6.0.0,>=5.0.0->tronpy) (0.12.0)\n",
      "Requirement already satisfied: annotated-types>=0.4.0 in c:\\programdata\\anaconda3\\lib\\site-packages (from pydantic<3,>=2.0.0->eth-utils>=2.0.0->eth-abi<6.0.0,>=5.0.0->tronpy) (0.6.0)\n",
      "Requirement already satisfied: pydantic-core==2.20.1 in c:\\programdata\\anaconda3\\lib\\site-packages (from pydantic<3,>=2.0.0->eth-utils>=2.0.0->eth-abi<6.0.0,>=5.0.0->tronpy) (2.20.1)\n",
      "Downloading tronpy-0.5.0-py3-none-any.whl (42 kB)\n",
      "Downloading eth_abi-5.2.0-py3-none-any.whl (28 kB)\n",
      "Downloading pycryptodome-3.22.0-cp37-abi3-win_amd64.whl (1.8 MB)\n",
      "   ---------------------------------------- 0.0/1.8 MB ? eta -:--:--\n",
      "   ----------- ---------------------------- 0.5/1.8 MB 5.7 MB/s eta 0:00:01\n",
      "   ---------------------------------------- 1.8/1.8 MB 5.8 MB/s eta 0:00:00\n",
      "Downloading base58-2.1.1-py3-none-any.whl (5.6 kB)\n",
      "Downloading coincurve-21.0.0-cp312-cp312-win_amd64.whl (1.3 MB)\n",
      "   ---------------------------------------- 0.0/1.3 MB ? eta -:--:--\n",
      "   ------------------------------- -------- 1.0/1.3 MB 6.3 MB/s eta 0:00:01\n",
      "   ------------------------------- -------- 1.0/1.3 MB 6.3 MB/s eta 0:00:01\n",
      "   ---------------------------------------- 1.3/1.3 MB 2.4 MB/s eta 0:00:00\n",
      "Downloading eth_typing-5.2.1-py3-none-any.whl (19 kB)\n",
      "Downloading eth_utils-5.3.0-py3-none-any.whl (102 kB)\n",
      "Downloading parsimonious-0.10.0-py3-none-any.whl (48 kB)\n",
      "Downloading eth_hash-0.7.1-py3-none-any.whl (8.0 kB)\n",
      "Installing collected packages: pycryptodome, parsimonious, eth-typing, eth-hash, coincurve, base58, eth-utils, eth-abi, tronpy\n",
      "Successfully installed base58-2.1.1 coincurve-21.0.0 eth-abi-5.2.0 eth-hash-0.7.1 eth-typing-5.2.1 eth-utils-5.3.0 parsimonious-0.10.0 pycryptodome-3.22.0 tronpy-0.5.0\n"
     ]
    },
    {
     "name": "stderr",
     "output_type": "stream",
     "text": [
      "  WARNING: The script base58.exe is installed in 'C:\\Users\\nicol\\AppData\\Roaming\\Python\\Python312\\Scripts' which is not on PATH.\n",
      "  Consider adding this directory to PATH or, if you prefer to suppress this warning, use --no-warn-script-location.\n"
     ]
    }
   ],
   "source": [
    "!pip install tronpy"
   ]
  },
  {
   "cell_type": "code",
   "execution_count": null,
   "id": "261eb621-b534-4f45-88ec-3c2d3dc57941",
   "metadata": {},
   "outputs": [],
   "source": []
  }
 ],
 "metadata": {
  "kernelspec": {
   "display_name": "Python [conda env:base] *",
   "language": "python",
   "name": "conda-base-py"
  },
  "language_info": {
   "codemirror_mode": {
    "name": "ipython",
    "version": 3
   },
   "file_extension": ".py",
   "mimetype": "text/x-python",
   "name": "python",
   "nbconvert_exporter": "python",
   "pygments_lexer": "ipython3",
   "version": "3.12.7"
  }
 },
 "nbformat": 4,
 "nbformat_minor": 5
}
