{
 "cells": [
  {
   "cell_type": "code",
   "execution_count": 1,
   "id": "a0d5002b-204c-475a-9337-28a8c8eaa0e5",
   "metadata": {},
   "outputs": [
    {
     "name": "stdout",
     "output_type": "stream",
     "text": [
      "✅ WAV file generated: test.wav\n"
     ]
    }
   ],
   "source": [
    "import wave\n",
    "import numpy as np\n",
    "\n",
    "# Parameters\n",
    "sample_rate = 44100  # samples per second\n",
    "duration = 3         # seconds\n",
    "frequency = 440.0    # A4 note (Hz)\n",
    "\n",
    "# Generate samples\n",
    "t = np.linspace(0, duration, int(sample_rate * duration), endpoint=False)\n",
    "waveform = (0.5 * np.sin(2 * np.pi * frequency * t)).astype(np.float32)\n",
    "\n",
    "# Save to WAV\n",
    "with wave.open(\"test.wav\", \"w\") as wav_file:\n",
    "    wav_file.setnchannels(1)        # mono\n",
    "    wav_file.setsampwidth(2)        # 16-bit\n",
    "    wav_file.setframerate(sample_rate)\n",
    "    wav_file.writeframes((waveform * 32767).astype(np.int16).tobytes())\n",
    "\n",
    "print(\"✅ WAV file generated: test.wav\")\n"
   ]
  },
  {
   "cell_type": "code",
   "execution_count": null,
   "id": "7e844cc0-f2ae-45eb-bfc8-310027d285a8",
   "metadata": {},
   "outputs": [],
   "source": []
  }
 ],
 "metadata": {
  "kernelspec": {
   "display_name": "Python [conda env:base] *",
   "language": "python",
   "name": "conda-base-py"
  },
  "language_info": {
   "codemirror_mode": {
    "name": "ipython",
    "version": 3
   },
   "file_extension": ".py",
   "mimetype": "text/x-python",
   "name": "python",
   "nbconvert_exporter": "python",
   "pygments_lexer": "ipython3",
   "version": "3.12.7"
  }
 },
 "nbformat": 4,
 "nbformat_minor": 5
}
