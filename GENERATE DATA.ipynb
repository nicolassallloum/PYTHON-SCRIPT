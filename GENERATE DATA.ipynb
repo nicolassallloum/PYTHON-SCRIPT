{
 "cells": [
  {
   "cell_type": "code",
   "execution_count": 3,
   "id": "43ea520d-d75b-484f-adfd-1a5eb7896944",
   "metadata": {},
   "outputs": [
    {
     "name": "stderr",
     "output_type": "stream",
     "text": [
      "C:\\Users\\nicol\\AppData\\Local\\Temp\\ipykernel_35336\\1855091597.py:44: DeprecationWarning: datetime.datetime.utcnow() is deprecated and scheduled for removal in a future version. Use timezone-aware objects to represent datetimes in UTC: datetime.datetime.now(datetime.UTC).\n",
      "  now = datetime.utcnow()\n"
     ]
    },
    {
     "data": {
      "text/plain": [
       "('c:/data/orders_small.csv',\n",
       " 'c:/data/orders_10k.csv',\n",
       "             order_id            event_time  customer_id product_sku  quantity  \\\n",
       " 0  O-20250908-000001  2025-09-07T03:02:49Z         1102   SKU-83563         1   \n",
       " 1  O-20250908-000002  2025-09-07T22:16:27Z         1435   SKU-36062         5   \n",
       " 2  O-20250908-000003  2025-09-08T01:25:01Z         1860   SKU-95181         3   \n",
       " 3  O-20250908-000004  2025-09-07T16:18:51Z         1270   SKU-81426         1   \n",
       " 4  O-20250908-000005  2025-09-07T17:24:41Z         1106   SKU-64987         1   \n",
       " \n",
       "    unit_price  total_amount payment_method status channel country  \n",
       " 0       73.49         73.49       transfer   PAID     web      LB  \n",
       " 1       21.71        108.55         wallet    NEW  mobile      LB  \n",
       " 2        9.21         27.63         wallet    NEW  mobile      EG  \n",
       " 3      113.94        113.94         wallet   PAID  mobile      TR  \n",
       " 4      115.93        115.93           cash   PAID  mobile      FR  )"
      ]
     },
     "execution_count": 3,
     "metadata": {},
     "output_type": "execute_result"
    }
   ],
   "source": [
    "# Generate two CSV files for Kafka testing: a small sample (20 rows) and a larger one (10,000 rows)\n",
    "import pandas as pd\n",
    "import numpy as np\n",
    "from datetime import datetime, timedelta\n",
    "import random\n",
    "\n",
    "random.seed(42)\n",
    "np.random.seed(42)\n",
    "\n",
    "def make_orders(n_rows: int, start_datetime: datetime, hours_span: int = 48):\n",
    "    # Generate timestamps over the last `hours_span` hours\n",
    "    times = [start_datetime - timedelta(seconds=random.randint(0, hours_span*3600)) for _ in range(n_rows)]\n",
    "    times = [t.replace(microsecond=0).isoformat() + \"Z\" for t in times]  # ISO-8601 with Z\n",
    "    \n",
    "    order_ids = [f\"O-{start_datetime.strftime('%Y%m%d')}-{i:06d}\" for i in range(1, n_rows+1)]\n",
    "    customer_ids = np.random.randint(1000, 1999, size=n_rows)\n",
    "    \n",
    "    skus = [f\"SKU-{random.randint(10000, 99999)}\" for _ in range(n_rows)]\n",
    "    qty = np.random.choice([1,2,3,4,5], size=n_rows, p=[0.45,0.25,0.15,0.10,0.05])\n",
    "    \n",
    "    unit_price = np.round(np.random.uniform(1.5, 120.0, size=n_rows), 2)\n",
    "    total_amount = np.round(unit_price * qty, 2)\n",
    "    \n",
    "    payment_method = np.random.choice([\"card\",\"cash\",\"wallet\",\"transfer\"], size=n_rows, p=[0.55,0.20,0.20,0.05])\n",
    "    status = np.random.choice([\"NEW\",\"PAID\",\"CANCELLED\",\"REFUNDED\"], size=n_rows, p=[0.20,0.65,0.10,0.05])\n",
    "    channel = np.random.choice([\"web\",\"mobile\",\"pos\"], size=n_rows, p=[0.45,0.35,0.20])\n",
    "    country = np.random.choice([\"LB\",\"AE\",\"SA\",\"US\",\"FR\",\"DE\",\"GB\",\"TR\",\"EG\",\"JO\"], size=n_rows, p=[0.35,0.08,0.07,0.10,0.08,0.07,0.05,0.07,0.07,0.06])\n",
    "\n",
    "    df = pd.DataFrame({\n",
    "        \"order_id\": order_ids,\n",
    "        \"event_time\": times,\n",
    "        \"customer_id\": customer_ids,\n",
    "        \"product_sku\": skus,\n",
    "        \"quantity\": qty,\n",
    "        \"unit_price\": unit_price,\n",
    "        \"total_amount\": total_amount,\n",
    "        \"payment_method\": payment_method,\n",
    "        \"status\": status,\n",
    "        \"channel\": channel,\n",
    "        \"country\": country,\n",
    "    })\n",
    "    return df\n",
    "\n",
    "now = datetime.utcnow()\n",
    "small_df = make_orders(20, now, hours_span=24)\n",
    "big_df = make_orders(10_000, now, hours_span=72)\n",
    "\n",
    "small_path = \"c:/data/orders_small.csv\"\n",
    "big_path = \"c:/data/orders_10k.csv\"\n",
    "small_df.to_csv(small_path, index=False)\n",
    "big_df.to_csv(big_path, index=False)\n",
    "\n",
    "small_path, big_path, small_df.head(5)\n"
   ]
  },
  {
   "cell_type": "code",
   "execution_count": null,
   "id": "c0aefe3f-b905-4797-a308-61a4d6b995d4",
   "metadata": {},
   "outputs": [],
   "source": []
  }
 ],
 "metadata": {
  "kernelspec": {
   "display_name": "Python [conda env:base] *",
   "language": "python",
   "name": "conda-base-py"
  },
  "language_info": {
   "codemirror_mode": {
    "name": "ipython",
    "version": 3
   },
   "file_extension": ".py",
   "mimetype": "text/x-python",
   "name": "python",
   "nbconvert_exporter": "python",
   "pygments_lexer": "ipython3",
   "version": "3.12.7"
  }
 },
 "nbformat": 4,
 "nbformat_minor": 5
}
