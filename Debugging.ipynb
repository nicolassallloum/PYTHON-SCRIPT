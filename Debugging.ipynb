{
 "cells": [
  {
   "cell_type": "code",
   "execution_count": 1,
   "id": "9e65c7c3-4fba-4459-b5a6-e053d71dab85",
   "metadata": {},
   "outputs": [
    {
     "name": "stdout",
     "output_type": "stream",
     "text": [
      "Dividing 10 by 2 \n",
      "5.0\n",
      "3.0\n"
     ]
    },
    {
     "ename": "AssertionError",
     "evalue": "x must be an integer",
     "output_type": "error",
     "traceback": [
      "\u001b[1;31m---------------------------------------------------------------------------\u001b[0m",
      "\u001b[1;31mAssertionError\u001b[0m                            Traceback (most recent call last)",
      "Cell \u001b[1;32mIn[1], line 21\u001b[0m\n\u001b[0;32m     18\u001b[0m     \u001b[38;5;28;01mreturn\u001b[39;00m x\u001b[38;5;241m*\u001b[39m\u001b[38;5;241m*\u001b[39m \u001b[38;5;241m0.5\u001b[39m\n\u001b[0;32m     20\u001b[0m \u001b[38;5;28mprint\u001b[39m(square_root(\u001b[38;5;241m9\u001b[39m))\n\u001b[1;32m---> 21\u001b[0m \u001b[38;5;28mprint\u001b[39m(square_root(\u001b[38;5;241m-\u001b[39m\u001b[38;5;241m4\u001b[39m))\n\u001b[0;32m     23\u001b[0m \u001b[38;5;66;03m#--3--Using try/except Blocks\u001b[39;00m\n\u001b[0;32m     25\u001b[0m \u001b[38;5;28;01mtry\u001b[39;00m:\n",
      "Cell \u001b[1;32mIn[1], line 17\u001b[0m, in \u001b[0;36msquare_root\u001b[1;34m(x)\u001b[0m\n\u001b[0;32m     16\u001b[0m \u001b[38;5;28;01mdef\u001b[39;00m \u001b[38;5;21msquare_root\u001b[39m(x):\n\u001b[1;32m---> 17\u001b[0m     \u001b[38;5;28;01massert\u001b[39;00m x \u001b[38;5;241m>\u001b[39m\u001b[38;5;241m=\u001b[39m \u001b[38;5;241m0\u001b[39m, \u001b[38;5;124m\"\u001b[39m\u001b[38;5;124mx must be an integer\u001b[39m\u001b[38;5;124m\"\u001b[39m\n\u001b[0;32m     18\u001b[0m     \u001b[38;5;28;01mreturn\u001b[39;00m x\u001b[38;5;241m*\u001b[39m\u001b[38;5;241m*\u001b[39m \u001b[38;5;241m0.5\u001b[39m\n",
      "\u001b[1;31mAssertionError\u001b[0m: x must be an integer"
     ]
    }
   ],
   "source": [
    "import logging\n",
    "import pdb\n",
    "import traceback\n",
    "import sys\n",
    "\n",
    "logging.basicConfig(level=logging.DEBUG)\n",
    "\n",
    "#--1-- Using Print() Statement\n",
    "def divide(a,b):\n",
    "    print(f\"Dividing {a} by {b} \")\n",
    "    return a/b\n",
    "\n",
    "print(divide(10,2))\n",
    "\n",
    "#--2-- Using assert Statement \n",
    "def square_root(x):\n",
    "    assert x >= 0, \"x must be an integer\"\n",
    "    return x** 0.5\n",
    "\n",
    "print(square_root(9))\n",
    "print(square_root(-4))\n",
    "\n",
    "#--3--Using try/except Blocks\n",
    "\n",
    "try:\n",
    "    num = int(\"abc\")\n",
    "\n",
    "except ValueError as e:\n",
    "    print(\"Error occured\",e)\n",
    "\n",
    "#--4-- Using logging Instead of print\n",
    "\n",
    "\n",
    "def add(a,b):\n",
    "    logging.debug(f\"a={a}, b={b}\")\n",
    "    return a + b \n",
    "print(add(5,7))\n",
    "\n",
    "#--5--Using pdb (Python Debugging)\n",
    "def multiply(x,y):\n",
    "    pdb.set_trace()\n",
    "    return x * y\n",
    "\n",
    "print(multiply(3,4))\n",
    "\n",
    "#--6--Using Traceback for Full Error Info\n",
    "\n",
    "try:\n",
    "    1/0\n",
    "except Exception:\n",
    "    traceback.print_exec()\n",
    "\n",
    "#--7-- Using type() and dir()\n",
    "x=[1,2,3]\n",
    "print(\"Type: \" , type(x))\n",
    "print(\"Methods \" , dir(x)[:5])\n",
    "\n",
    "#--8-- Using sys.settrace for Advanced Debugging\n",
    "\n",
    "def trace_calls(frame, event, arg):\n",
    "    print(f\"Tracing: {frame.f_code.co_name}, Line {frame.f_lineno}, Event: {event}\")\n",
    "    return trace_calls\n",
    "\n",
    "def test_fuction():\n",
    "    x = 10\n",
    "    y = 20\n",
    "    return x+ y\n",
    "\n",
    "sys.settrace(trace_calls)\n",
    "test_function()\n",
    "sys.settrace(none)"
   ]
  },
  {
   "cell_type": "code",
   "execution_count": null,
   "id": "f799dedf-8d0a-4f21-b069-b9a7ba7aa226",
   "metadata": {},
   "outputs": [],
   "source": []
  }
 ],
 "metadata": {
  "kernelspec": {
   "display_name": "Python [conda env:base] *",
   "language": "python",
   "name": "conda-base-py"
  },
  "language_info": {
   "codemirror_mode": {
    "name": "ipython",
    "version": 3
   },
   "file_extension": ".py",
   "mimetype": "text/x-python",
   "name": "python",
   "nbconvert_exporter": "python",
   "pygments_lexer": "ipython3",
   "version": "3.12.7"
  }
 },
 "nbformat": 4,
 "nbformat_minor": 5
}
