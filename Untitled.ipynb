{
 "cells": [
  {
   "cell_type": "code",
   "execution_count": 5,
   "id": "d69cdf77-cfeb-40b1-9186-b8211c4dc2e3",
   "metadata": {},
   "outputs": [],
   "source": [
    "import pandas as pd\n",
    "import numpy as np\n",
    "import random\n",
    "import os\n",
    "from faker import Faker\n",
    "\n",
    "fake = Faker()\n",
    "NUM_STORES = 100  # Example: adjust as needed\n",
    "OUTPUT_DIR = \"retail_data\"\n",
    "\n",
    "def generate_store_branches():\n",
    "    regions = [\"Beirut\", \"Jnoub\", \"Chmel\", \"Bekaa\", \"Metn\"]\n",
    "    \n",
    "    # A sample list of real Lebanese cities\n",
    "    lebanese_cities = [\n",
    "        \"Beirut\", \"Sidon\", \"Tyre\", \"Tripoli\", \"Zahle\", \"Aley\", \"Baabda\", \"Jounieh\",\n",
    "        \"Batroun\", \"Byblos\", \"Nabatieh\", \"Baalbek\", \"Hasbaya\", \"Bint Jbeil\", \"Rashaya\",\n",
    "        \"Hermel\", \"Zgharta\", \"Akkar\"\n",
    "    ]\n",
    "\n",
    "    df = pd.DataFrame({\n",
    "        \"store_id\": range(1, NUM_STORES + 1),\n",
    "        \"store_name\": [f\"MegaMart {chr(65+i)}\" for i in range(NUM_STORES)],\n",
    "        \"city\": [random.choice(lebanese_cities) for _ in range(NUM_STORES)],\n",
    "        \"region\": [random.choice(regions) for _ in range(NUM_STORES)],\n",
    "        \"size_sqft\": np.random.randint(5000, 30000, size=NUM_STORES),\n",
    "        \"open_date\": [fake.date_between(start_date=\"-10y\", end_date=\"-1y\") for _ in range(NUM_STORES)]\n",
    "    })\n",
    "\n",
    "    os.makedirs(OUTPUT_DIR, exist_ok=True)\n",
    "    df.to_csv(os.path.join(OUTPUT_DIR, \"store_branches_Lebanon.csv\"), index=False)\n",
    "\n",
    "# Example run\n",
    "generate_store_branches()\n"
   ]
  },
  {
   "cell_type": "code",
   "execution_count": null,
   "id": "218fae14-0f43-44f6-8d1a-1106004aa52a",
   "metadata": {},
   "outputs": [],
   "source": []
  }
 ],
 "metadata": {
  "kernelspec": {
   "display_name": "Python [conda env:base] *",
   "language": "python",
   "name": "conda-base-py"
  },
  "language_info": {
   "codemirror_mode": {
    "name": "ipython",
    "version": 3
   },
   "file_extension": ".py",
   "mimetype": "text/x-python",
   "name": "python",
   "nbconvert_exporter": "python",
   "pygments_lexer": "ipython3",
   "version": "3.12.7"
  }
 },
 "nbformat": 4,
 "nbformat_minor": 5
}
